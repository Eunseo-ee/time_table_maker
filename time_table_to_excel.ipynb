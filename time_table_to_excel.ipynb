{
 "cells": [
  {
   "cell_type": "code",
   "execution_count": 52,
   "id": "38dac81a",
   "metadata": {},
   "outputs": [],
   "source": [
    "import pandas as pd\n",
    "# 텍스트 파일 경로\n",
    "txt_file_path = '조형대학.txt'\n",
    "# 엑셀 파일 경로\n",
    "excel_file_path = '조형대학.xlsx'\n",
    "\n",
    "# 텍스트 파일 읽기\n",
    "try:\n",
    "    with open(txt_file_path, 'r', encoding='utf-8') as file:\n",
    "        lines = file.readlines()\n",
    "except UnicodeDecodeError:\n",
    "    with open(txt_file_path, 'r', encoding='cp949') as file:\n",
    "        lines = file.readlines()\n",
    "\n",
    "# 데이터 전처리\n",
    "data = []\n",
    "for line in lines:\n",
    "    # 탭 기준으로 분리\n",
    "    split_line = line.strip().split('\\t')\n",
    "    data.append(split_line)\n",
    "\n",
    "# 데이터프레임 생성\n",
    "df = pd.DataFrame(data)\n",
    "df = df.drop(df.columns[12:], axis=1)\n",
    "\n",
    "# 엑셀 파일로 저장\n",
    "df.to_excel(excel_file_path, index=False, header=False)\n"
   ]
  },
  {
   "cell_type": "code",
   "execution_count": null,
   "id": "93f4c135",
   "metadata": {},
   "outputs": [],
   "source": []
  }
 ],
 "metadata": {
  "kernelspec": {
   "display_name": "Python 3 (ipykernel)",
   "language": "python",
   "name": "python3"
  },
  "language_info": {
   "codemirror_mode": {
    "name": "ipython",
    "version": 3
   },
   "file_extension": ".py",
   "mimetype": "text/x-python",
   "name": "python",
   "nbconvert_exporter": "python",
   "pygments_lexer": "ipython3",
   "version": "3.9.16"
  }
 },
 "nbformat": 4,
 "nbformat_minor": 5
}
